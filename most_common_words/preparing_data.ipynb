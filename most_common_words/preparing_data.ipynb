{
 "cells": [
  {
   "cell_type": "code",
   "execution_count": 8,
   "metadata": {},
   "outputs": [
    {
     "name": "stderr",
     "output_type": "stream",
     "text": [
      "[nltk_data] Downloading package stopwords to\n",
      "[nltk_data]     C:\\Users\\Studia\\AppData\\Roaming\\nltk_data...\n",
      "[nltk_data]   Package stopwords is already up-to-date!\n"
     ]
    }
   ],
   "source": [
    "from nltk.corpus import stopwords\n",
    "import nltk\n",
    "\n",
    "nltk.download(\"stopwords\")\n",
    "\n",
    "stop_words = set(stopwords.words(\"english\"))\n"
   ]
  },
  {
   "cell_type": "code",
   "execution_count": 11,
   "metadata": {},
   "outputs": [],
   "source": [
    "def read_words(file_path: str) -> list[str]:\n",
    "    with open(file_path, \"r\", -1, \"utf-8\") as file:\n",
    "        words = file.read().splitlines()\n",
    "\n",
    "    return words\n",
    "\n",
    "\n",
    "def filter_words(\n",
    "        words: list[str],\n",
    "        delete_stop_words: bool = True,\n",
    "        delete_non_alpha: bool = True,\n",
    "        limit: int | None = None\n",
    "        ) -> list[str]:\n",
    "\n",
    "    if limit is None:\n",
    "        limit = float(\"inf\")\n",
    "\n",
    "    if delete_stop_words:\n",
    "        words = [\n",
    "            word\n",
    "            for word in words\n",
    "            if word.lower() not in stop_words\n",
    "            ]\n",
    "\n",
    "    if delete_non_alpha:\n",
    "        words = [\n",
    "            word\n",
    "            for word in words\n",
    "            if word.isalpha() and\n",
    "            word.strip() != \"\"\n",
    "            ]\n",
    "\n",
    "    filtered_words = []\n",
    "    words_count = 0\n",
    "    for word in words[::-1]:\n",
    "        filtered_words.insert(0, word)\n",
    "        words_count += 1\n",
    "\n",
    "        if words_count >= limit:\n",
    "            break\n",
    "    \n",
    "    return filtered_words\n",
    "\n",
    "\n",
    "def save_words(file_path: str, words: list[str]) -> None:\n",
    "    with open(file_path, \"w\", -1, \"utf-8\") as file:\n",
    "        for word in words:\n",
    "            print(word, file=file)\n"
   ]
  },
  {
   "cell_type": "code",
   "execution_count": 13,
   "metadata": {},
   "outputs": [],
   "source": [
    "files = (\"laion_bigrams.txt\", \"laion.txt\", \"mscoco.txt\")\n",
    "\n",
    "for file in files:\n",
    "    words = read_words(f\"original_data/{file}\")\n",
    "    filtered_words = filter_words(words, limit=10_000)\n",
    "    save_words(f\"prepared_data/{file}\", filtered_words)\n"
   ]
  },
  {
   "cell_type": "code",
   "execution_count": null,
   "metadata": {},
   "outputs": [],
   "source": []
  }
 ],
 "metadata": {
  "kernelspec": {
   "display_name": "base",
   "language": "python",
   "name": "python3"
  },
  "language_info": {
   "codemirror_mode": {
    "name": "ipython",
    "version": 3
   },
   "file_extension": ".py",
   "mimetype": "text/x-python",
   "name": "python",
   "nbconvert_exporter": "python",
   "pygments_lexer": "ipython3",
   "version": "3.10.14"
  }
 },
 "nbformat": 4,
 "nbformat_minor": 2
}
